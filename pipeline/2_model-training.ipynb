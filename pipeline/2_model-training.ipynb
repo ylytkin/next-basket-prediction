{
 "cells": [
  {
   "cell_type": "markdown",
   "metadata": {},
   "source": [
    "# model-training\n",
    "\n",
    "Training the Next Basket predictor.\n",
    "\n",
    "Requires:\n",
    "1. `data/x_train.npy`\n",
    "2. `data/y_train.npy`\n",
    "3. `data/x_test.npy`\n",
    "4. `data/y_test.npy`\n",
    "\n",
    "Produces:\n",
    "1. `model/model.hdf5`"
   ]
  },
  {
   "cell_type": "code",
   "execution_count": 1,
   "metadata": {},
   "outputs": [],
   "source": [
    "import sys\n",
    "sys.path.append('..')"
   ]
  },
  {
   "cell_type": "code",
   "execution_count": 2,
   "metadata": {},
   "outputs": [],
   "source": [
    "import numpy as np\n",
    "import tensorflow as tf\n",
    "\n",
    "from config import x_train_fpath, y_train_fpath, x_test_fpath, y_test_fpath, model_fpath"
   ]
  },
  {
   "cell_type": "code",
   "execution_count": 3,
   "metadata": {},
   "outputs": [
    {
     "data": {
      "text/plain": [
       "((26038, 5, 243), (26038, 243), (8560, 5, 243), (8560, 243))"
      ]
     },
     "execution_count": 3,
     "metadata": {},
     "output_type": "execute_result"
    }
   ],
   "source": [
    "x_train = np.load(x_train_fpath).astype(np.float64)\n",
    "y_train = np.load(y_train_fpath).astype(np.float64)\n",
    "x_test = np.load(x_test_fpath).astype(np.float64)\n",
    "y_test = np.load(y_test_fpath).astype(np.float64)\n",
    "\n",
    "x_train.shape, y_train.shape, x_test.shape, y_test.shape"
   ]
  },
  {
   "cell_type": "code",
   "execution_count": 4,
   "metadata": {},
   "outputs": [
    {
     "data": {
      "text/plain": [
       "(2.1492191126553797, 2.1367205671564067, 2.1492191126553797, 2.123851640967086)"
      ]
     },
     "execution_count": 4,
     "metadata": {},
     "output_type": "execute_result"
    }
   ],
   "source": [
    "x_train = np.log10(1 + x_train)\n",
    "y_train = np.log10(1 + y_train)\n",
    "x_test = np.log10(1 + x_test)\n",
    "y_test = np.log10(1 + y_test)\n",
    "\n",
    "x_train.max(), y_train.max(), x_test.max(), y_test.max()"
   ]
  },
  {
   "cell_type": "code",
   "execution_count": 5,
   "metadata": {},
   "outputs": [
    {
     "name": "stdout",
     "output_type": "stream",
     "text": [
      "Model: \"sequential\"\n",
      "_________________________________________________________________\n",
      "Layer (type)                 Output Shape              Param #   \n",
      "=================================================================\n",
      "lstm (LSTM)                  (None, 128)               190464    \n",
      "_________________________________________________________________\n",
      "dense (Dense)                (None, 243)               31347     \n",
      "=================================================================\n",
      "Total params: 221,811\n",
      "Trainable params: 221,811\n",
      "Non-trainable params: 0\n",
      "_________________________________________________________________\n"
     ]
    }
   ],
   "source": [
    "model = tf.keras.models.Sequential([\n",
    "    tf.keras.layers.InputLayer(input_shape=x_train[0].shape),\n",
    "    # tf.keras.layers.LSTM(128, dropout=0.1, return_sequences=True),\n",
    "    tf.keras.layers.LSTM(128, dropout=0.2),\n",
    "    tf.keras.layers.Dense(y_train.shape[1], activation='relu'),\n",
    "])\n",
    "\n",
    "model.compile(optimizer='adam', loss='mse')\n",
    "\n",
    "model.summary()"
   ]
  },
  {
   "cell_type": "code",
   "execution_count": 6,
   "metadata": {},
   "outputs": [],
   "source": [
    "model.save(model_fpath)"
   ]
  },
  {
   "cell_type": "code",
   "execution_count": 7,
   "metadata": {},
   "outputs": [
    {
     "name": "stdout",
     "output_type": "stream",
     "text": [
      "Epoch 1/24\n",
      "1628/1628 [==============================] - 7s 4ms/step - loss: 0.0037 - val_loss: 0.0028\n",
      "Epoch 2/24\n",
      "1628/1628 [==============================] - 5s 3ms/step - loss: 0.0032 - val_loss: 0.0028\n",
      "Epoch 3/24\n",
      "1628/1628 [==============================] - 5s 3ms/step - loss: 0.0032 - val_loss: 0.0028\n",
      "Epoch 4/24\n",
      "1628/1628 [==============================] - 5s 3ms/step - loss: 0.0031 - val_loss: 0.0028\n",
      "Epoch 5/24\n",
      "1628/1628 [==============================] - 5s 3ms/step - loss: 0.0031 - val_loss: 0.0027\n",
      "Epoch 6/24\n",
      "1628/1628 [==============================] - 5s 3ms/step - loss: 0.0031 - val_loss: 0.0028\n",
      "Epoch 7/24\n",
      "1628/1628 [==============================] - 5s 3ms/step - loss: 0.0030 - val_loss: 0.0028\n",
      "Epoch 8/24\n",
      "1628/1628 [==============================] - 5s 3ms/step - loss: 0.0030 - val_loss: 0.0028\n",
      "Epoch 9/24\n",
      "1628/1628 [==============================] - 5s 3ms/step - loss: 0.0030 - val_loss: 0.0028\n",
      "Epoch 10/24\n",
      "1628/1628 [==============================] - 5s 3ms/step - loss: 0.0030 - val_loss: 0.0028\n",
      "Epoch 11/24\n",
      "1628/1628 [==============================] - 5s 3ms/step - loss: 0.0030 - val_loss: 0.0027\n",
      "Epoch 12/24\n",
      "1628/1628 [==============================] - 5s 3ms/step - loss: 0.0030 - val_loss: 0.0028\n",
      "Epoch 13/24\n",
      "1628/1628 [==============================] - 5s 3ms/step - loss: 0.0029 - val_loss: 0.0028\n",
      "Epoch 14/24\n",
      "1628/1628 [==============================] - 5s 3ms/step - loss: 0.0029 - val_loss: 0.0028\n",
      "Epoch 15/24\n",
      "1628/1628 [==============================] - 5s 3ms/step - loss: 0.0029 - val_loss: 0.0028\n",
      "Epoch 16/24\n",
      "1628/1628 [==============================] - 5s 3ms/step - loss: 0.0029 - val_loss: 0.0028\n",
      "Epoch 17/24\n",
      "1628/1628 [==============================] - 5s 3ms/step - loss: 0.0029 - val_loss: 0.0028\n",
      "Epoch 18/24\n",
      "1628/1628 [==============================] - 5s 3ms/step - loss: 0.0029 - val_loss: 0.0028\n",
      "Epoch 19/24\n",
      "1628/1628 [==============================] - 5s 3ms/step - loss: 0.0029 - val_loss: 0.0028\n",
      "Epoch 20/24\n",
      "1628/1628 [==============================] - 5s 3ms/step - loss: 0.0029 - val_loss: 0.0028\n",
      "Epoch 21/24\n",
      "1628/1628 [==============================] - 5s 3ms/step - loss: 0.0029 - val_loss: 0.0028\n",
      "Epoch 22/24\n",
      "1628/1628 [==============================] - 5s 3ms/step - loss: 0.0029 - val_loss: 0.0029\n",
      "Epoch 23/24\n",
      "1628/1628 [==============================] - 5s 3ms/step - loss: 0.0029 - val_loss: 0.0029\n",
      "Epoch 24/24\n",
      "1628/1628 [==============================] - 5s 3ms/step - loss: 0.0029 - val_loss: 0.0028\n"
     ]
    }
   ],
   "source": [
    "model.fit(\n",
    "    x_train, y_train,\n",
    "    epochs=24,\n",
    "    batch_size=16,\n",
    "    validation_data=(x_test, y_test),\n",
    ")\n",
    "\n",
    "model.save(model_fpath)"
   ]
  },
  {
   "cell_type": "code",
   "execution_count": null,
   "metadata": {},
   "outputs": [],
   "source": []
  }
 ],
 "metadata": {
  "kernelspec": {
   "display_name": "Python 3",
   "language": "python",
   "name": "python3"
  },
  "language_info": {
   "codemirror_mode": {
    "name": "ipython",
    "version": 3
   },
   "file_extension": ".py",
   "mimetype": "text/x-python",
   "name": "python",
   "nbconvert_exporter": "python",
   "pygments_lexer": "ipython3",
   "version": "3.7.5"
  }
 },
 "nbformat": 4,
 "nbformat_minor": 4
}
