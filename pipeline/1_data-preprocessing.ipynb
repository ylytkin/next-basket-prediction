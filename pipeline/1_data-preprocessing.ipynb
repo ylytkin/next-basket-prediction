{
 "cells": [
  {
   "cell_type": "markdown",
   "metadata": {},
   "source": [
    "# data-preprocessing\n",
    "\n",
    "Preprocessing procedures for raw data.\n",
    "\n",
    "Requires:\n",
    "1. `data/raw/raiffeisen_data_anonymized.csv.zip`\n",
    "\n",
    "Produces:\n",
    "1. `data/mcc2id.json`\n",
    "2. `data/x_train.npy`\n",
    "3. `data/y_train.npy`\n",
    "4. `data/x_test.npy`\n",
    "5. `data/y_test.npy`"
   ]
  },
  {
   "cell_type": "code",
   "execution_count": 1,
   "metadata": {},
   "outputs": [],
   "source": [
    "import sys\n",
    "sys.path.append('..')"
   ]
  },
  {
   "cell_type": "code",
   "execution_count": 2,
   "metadata": {},
   "outputs": [],
   "source": [
    "from zipfile import ZipFile\n",
    "from datetime import datetime\n",
    "\n",
    "import pandas as pd\n",
    "import numpy as np\n",
    "from tqdm.notebook import tqdm\n",
    "\n",
    "from myutils.json import save_json\n",
    "\n",
    "from config import raw_data_zip_fpath, x_train_fpath, y_train_fpath, x_test_fpath, y_test_fpath, mcc2id_fpath"
   ]
  },
  {
   "cell_type": "code",
   "execution_count": 3,
   "metadata": {},
   "outputs": [
    {
     "data": {
      "text/html": [
       "<div>\n",
       "<style scoped>\n",
       "    .dataframe tbody tr th:only-of-type {\n",
       "        vertical-align: middle;\n",
       "    }\n",
       "\n",
       "    .dataframe tbody tr th {\n",
       "        vertical-align: top;\n",
       "    }\n",
       "\n",
       "    .dataframe thead th {\n",
       "        text-align: right;\n",
       "    }\n",
       "</style>\n",
       "<table border=\"1\" class=\"dataframe\">\n",
       "  <thead>\n",
       "    <tr style=\"text-align: right;\">\n",
       "      <th></th>\n",
       "      <th>customer_id</th>\n",
       "      <th>mcc</th>\n",
       "      <th>month</th>\n",
       "    </tr>\n",
       "  </thead>\n",
       "  <tbody>\n",
       "    <tr>\n",
       "      <th>0</th>\n",
       "      <td>0dc0137d280a2a82d2dc89282450ff1b</td>\n",
       "      <td>5261</td>\n",
       "      <td>1.498867e+09</td>\n",
       "    </tr>\n",
       "    <tr>\n",
       "      <th>1</th>\n",
       "      <td>0dc0137d280a2a82d2dc89282450ff1b</td>\n",
       "      <td>5261</td>\n",
       "      <td>1.504224e+09</td>\n",
       "    </tr>\n",
       "  </tbody>\n",
       "</table>\n",
       "</div>"
      ],
      "text/plain": [
       "                        customer_id   mcc         month\n",
       "0  0dc0137d280a2a82d2dc89282450ff1b  5261  1.498867e+09\n",
       "1  0dc0137d280a2a82d2dc89282450ff1b  5261  1.504224e+09"
      ]
     },
     "execution_count": 3,
     "metadata": {},
     "output_type": "execute_result"
    }
   ],
   "source": [
    "with ZipFile(raw_data_zip_fpath) as zipfile:\n",
    "    namelist = zipfile.namelist()\n",
    "    assert len(namelist) == 1\n",
    "    \n",
    "    with zipfile.open(namelist[0]) as file:\n",
    "        df = pd.read_csv(\n",
    "            file,\n",
    "            usecols=['customer_id', 'mcc', 'transaction_date'],\n",
    "            dtype={'mcc': str},\n",
    "            parse_dates=['transaction_date'],\n",
    "        )\n",
    "\n",
    "df['month'] = df['transaction_date'].apply(lambda dt: dt.replace(day=1).timestamp())\n",
    "df = df.drop(columns=['transaction_date'])\n",
    "        \n",
    "df.head(2)"
   ]
  },
  {
   "cell_type": "code",
   "execution_count": 4,
   "metadata": {},
   "outputs": [
    {
     "data": {
      "text/plain": [
       "customer_id    9988\n",
       "mcc             243\n",
       "month             9\n",
       "dtype: int64"
      ]
     },
     "execution_count": 4,
     "metadata": {},
     "output_type": "execute_result"
    }
   ],
   "source": [
    "df.nunique()"
   ]
  },
  {
   "cell_type": "code",
   "execution_count": 5,
   "metadata": {},
   "outputs": [],
   "source": [
    "customers = df['customer_id'].unique().tolist()\n",
    "n_customers = len(customers)\n",
    "customer2id = {customer: i for i, customer in enumerate(customers)}\n",
    "\n",
    "months = sorted(df['month'].unique().tolist())\n",
    "n_months = len(months)\n",
    "month2id = {month: i for i, month in enumerate(months)}\n",
    "\n",
    "mccs = df['mcc'].unique().tolist()\n",
    "n_mccs = len(mccs)\n",
    "mcc2id = {mcc: i for i, mcc in enumerate(mccs)}"
   ]
  },
  {
   "cell_type": "code",
   "execution_count": 6,
   "metadata": {},
   "outputs": [],
   "source": [
    "save_json(mcc2id, mcc2id_fpath)"
   ]
  },
  {
   "cell_type": "markdown",
   "metadata": {},
   "source": [
    "Representing data as a rank-3 tensor: `data[i, j, k]` is number of $i$-th customer's transactions during $j$-th month with $k$-th MCC.\n",
    "\n",
    "_Note_: I'm using `uint8` here for storage reasons and since I've previously checked that the largest value here is 140."
   ]
  },
  {
   "cell_type": "code",
   "execution_count": 7,
   "metadata": {},
   "outputs": [
    {
     "data": {
      "application/vnd.jupyter.widget-view+json": {
       "model_id": "4b513fb168af413cac74835f013556f7",
       "version_major": 2,
       "version_minor": 0
      },
      "text/plain": [
       "  0%|          | 0/1047190 [00:00<?, ?it/s]"
      ]
     },
     "metadata": {},
     "output_type": "display_data"
    },
    {
     "data": {
      "text/plain": [
       "(9988, 9, 243)"
      ]
     },
     "execution_count": 7,
     "metadata": {},
     "output_type": "execute_result"
    }
   ],
   "source": [
    "data = np.zeros((n_customers, n_months, n_mccs), dtype=np.uint8)\n",
    "\n",
    "for _, row in tqdm(df.iterrows(), total=df.shape[0]):\n",
    "    i = customer2id[row['customer_id']]\n",
    "    j = month2id[row['month']]\n",
    "    k = mcc2id[row['mcc']]\n",
    "    \n",
    "    data[i, j, k] += 1\n",
    "    \n",
    "data.shape"
   ]
  },
  {
   "cell_type": "markdown",
   "metadata": {},
   "source": [
    "### Constructing sequences"
   ]
  },
  {
   "cell_type": "code",
   "execution_count": 8,
   "metadata": {},
   "outputs": [],
   "source": [
    "seq = 5  # sequence length in months\n",
    "ntest = 1  # number of last months to test on"
   ]
  },
  {
   "cell_type": "code",
   "execution_count": 9,
   "metadata": {},
   "outputs": [
    {
     "data": {
      "application/vnd.jupyter.widget-view+json": {
       "model_id": "e8c208e28fac40f6a108fffbfbdd9986",
       "version_major": 2,
       "version_minor": 0
      },
      "text/plain": [
       "  0%|          | 0/9988 [00:00<?, ?it/s]"
      ]
     },
     "metadata": {},
     "output_type": "display_data"
    },
    {
     "data": {
      "text/plain": [
       "((26038, 5, 243), (26038, 243), (8560, 5, 243), (8560, 243))"
      ]
     },
     "execution_count": 9,
     "metadata": {},
     "output_type": "execute_result"
    }
   ],
   "source": [
    "x_train = []\n",
    "y_train = []\n",
    "x_test = []\n",
    "y_test = []\n",
    "\n",
    "for mx in tqdm(data):  # for each customer\n",
    "    for i in range(n_months - seq):\n",
    "        j = i + seq\n",
    "        x = mx[i:j]\n",
    "        y = mx[j]\n",
    "        \n",
    "        if (x == 0).all() or (y == 0).all():\n",
    "            continue\n",
    "            \n",
    "        if n_months - j > ntest:\n",
    "            x_train.append(x)\n",
    "            y_train.append(y)\n",
    "        \n",
    "        else:\n",
    "            x_test.append(x)\n",
    "            y_test.append(y)\n",
    "            \n",
    "x_train = np.array(x_train)\n",
    "y_train = np.array(y_train)\n",
    "x_test = np.array(x_test)\n",
    "y_test = np.array(y_test)\n",
    "\n",
    "x_train.shape, y_train.shape, x_test.shape, y_test.shape"
   ]
  },
  {
   "cell_type": "code",
   "execution_count": 10,
   "metadata": {},
   "outputs": [],
   "source": [
    "np.save(x_train_fpath, x_train)\n",
    "np.save(y_train_fpath, y_train)\n",
    "np.save(x_test_fpath, x_test)\n",
    "np.save(y_test_fpath, y_test)"
   ]
  },
  {
   "cell_type": "code",
   "execution_count": null,
   "metadata": {},
   "outputs": [],
   "source": []
  }
 ],
 "metadata": {
  "kernelspec": {
   "display_name": "Python 3",
   "language": "python",
   "name": "python3"
  },
  "language_info": {
   "codemirror_mode": {
    "name": "ipython",
    "version": 3
   },
   "file_extension": ".py",
   "mimetype": "text/x-python",
   "name": "python",
   "nbconvert_exporter": "python",
   "pygments_lexer": "ipython3",
   "version": "3.7.5"
  }
 },
 "nbformat": 4,
 "nbformat_minor": 4
}
